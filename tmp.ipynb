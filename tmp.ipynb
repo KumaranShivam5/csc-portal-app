{
 "cells": [
  {
   "cell_type": "code",
   "execution_count": 1,
   "id": "fe17b270",
   "metadata": {},
   "outputs": [],
   "source": [
    "import pandas as pd"
   ]
  },
  {
   "cell_type": "code",
   "execution_count": 3,
   "id": "741d217b",
   "metadata": {},
   "outputs": [
    {
     "name": "stdout",
     "output_type": "stream",
     "text": [
      "['CSC-ID', 'significance', 'var_flag', 'streak_src_flag', 'pileup_flag', 'ra', 'dec', 'missing', 'sat_src_flag', 'extent_flag', 'conf_flag', 'class', 'prob', 'prob_margin', 'prob_AGN', 'prob_CV', 'prob_HMXB', 'prob_LMXB', 'prob_PULSAR', 'prob_STAR', 'prob_ULX', 'prob_YSO', 'gal_b2', 'gal_l2', 'var_inter_prob_b', 'var_inter_sigma_b', 'var_intra_prob_b', 'var_inter_index_b', 'kp_intra_prob_b', 'var_intra_index_b', 'h-csc', 'b-csc', 'm-csc', 's-csc', 'u-csc', '0p3_8_csc', 'FUV', 'NUV', 'u-sdss', 'g-sdss', 'r-sdss', 'i-sdss', 'z-sdss', 'W1', 'W2', 'W3', 'W4', '24_microns_(MIPS)', 'J', 'H', 'K', 'G', 'Bp', 'Rp', 'B-R', 'G-J', 'G-W2', 'Bp-H', 'Bp-W3', 'Rp-K', 'J-H', 'J-W1', 'W1-W2']\n"
     ]
    }
   ],
   "source": [
    "df = pd.read_csv('df2.csv')\n",
    "print(df.columns.to_list())"
   ]
  },
  {
   "cell_type": "markdown",
   "id": "92b82fa6",
   "metadata": {},
   "source": [
    "['CSC-ID', 'significance', 'var_flag', 'streak_src_flag', 'pileup_flag', 'ra', 'dec', 'missing', 'sat_src_flag', 'extent_flag', 'conf_flag', 'class', 'prob', 'prob_margin', 'prob_AGN', 'prob_CV', 'prob_HMXB', 'prob_LMXB', 'prob_PULSAR', 'prob_STAR', 'prob_ULX', 'prob_YSO',]"
   ]
  }
 ],
 "metadata": {
  "kernelspec": {
   "display_name": "astro-ml",
   "language": "python",
   "name": "python3"
  },
  "language_info": {
   "codemirror_mode": {
    "name": "ipython",
    "version": 3
   },
   "file_extension": ".py",
   "mimetype": "text/x-python",
   "name": "python",
   "nbconvert_exporter": "python",
   "pygments_lexer": "ipython3",
   "version": "3.13.3"
  }
 },
 "nbformat": 4,
 "nbformat_minor": 5
}
